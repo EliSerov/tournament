{
  "nbformat": 4,
  "nbformat_minor": 0,
  "metadata": {
    "colab": {
      "provenance": []
    },
    "kernelspec": {
      "name": "python3",
      "display_name": "Python 3"
    },
    "language_info": {
      "name": "python"
    }
  },
  "cells": [
    {
      "cell_type": "code",
      "execution_count": 17,
      "metadata": {
        "id": "MXXTuy_o0sjk",
        "colab": {
          "base_uri": "https://localhost:8080/"
        },
        "outputId": "45c273ab-91b8-4fd1-a2aa-2174570adaa7"
      },
      "outputs": [
        {
          "output_type": "stream",
          "name": "stdout",
          "text": [
            "\u001b[2K   \u001b[90m━━━━━━━━━━━━━━━━━━━━━━━━━━━━━━━━━━━━━━━━\u001b[0m \u001b[32m1.4/1.4 MB\u001b[0m \u001b[31m18.0 MB/s\u001b[0m eta \u001b[36m0:00:00\u001b[0m\n",
            "\u001b[2K   \u001b[90m━━━━━━━━━━━━━━━━━━━━━━━━━━━━━━━━━━━━━━━━\u001b[0m \u001b[32m953.8/953.8 kB\u001b[0m \u001b[31m43.5 MB/s\u001b[0m eta \u001b[36m0:00:00\u001b[0m\n",
            "\u001b[2K   \u001b[90m━━━━━━━━━━━━━━━━━━━━━━━━━━━━━━━━━━━━━━━━\u001b[0m \u001b[32m840.2/840.2 kB\u001b[0m \u001b[31m41.2 MB/s\u001b[0m eta \u001b[36m0:00:00\u001b[0m\n",
            "\u001b[2K   \u001b[90m━━━━━━━━━━━━━━━━━━━━━━━━━━━━━━━━━━━━━━━━\u001b[0m \u001b[32m178.7/178.7 kB\u001b[0m \u001b[31m11.1 MB/s\u001b[0m eta \u001b[36m0:00:00\u001b[0m\n",
            "\u001b[?25h"
          ]
        }
      ],
      "source": [
        "!pip install -q -U kaggle_environments"
      ]
    },
    {
      "cell_type": "code",
      "source": [
        "import numpy as np\n",
        "import pandas as pd\n",
        "import random\n",
        "\n",
        "import matplotlib.pyplot as plt\n",
        "import seaborn as sns\n",
        "\n",
        "from kaggle_environments import make, evaluate"
      ],
      "metadata": {
        "id": "yz23vWHD0wcj",
        "colab": {
          "base_uri": "https://localhost:8080/"
        },
        "outputId": "8ce104e4-8eb3-47c5-c83c-25911965f3a6"
      },
      "execution_count": 18,
      "outputs": [
        {
          "output_type": "stream",
          "name": "stderr",
          "text": [
            "/usr/local/lib/python3.10/dist-packages/pygame/pkgdata.py:25: DeprecationWarning: pkg_resources is deprecated as an API. See https://setuptools.pypa.io/en/latest/pkg_resources.html\n",
            "  from pkg_resources import resource_stream, resource_exists\n",
            "/usr/local/lib/python3.10/dist-packages/pkg_resources/__init__.py:3154: DeprecationWarning: Deprecated call to `pkg_resources.declare_namespace('google')`.\n",
            "Implementing implicit namespace packages (as specified in PEP 420) is preferred to `pkg_resources.declare_namespace`. See https://setuptools.pypa.io/en/latest/references/keywords.html#keyword-namespace-packages\n",
            "  declare_namespace(pkg)\n",
            "/usr/local/lib/python3.10/dist-packages/pkg_resources/__init__.py:3154: DeprecationWarning: Deprecated call to `pkg_resources.declare_namespace('google.cloud')`.\n",
            "Implementing implicit namespace packages (as specified in PEP 420) is preferred to `pkg_resources.declare_namespace`. See https://setuptools.pypa.io/en/latest/references/keywords.html#keyword-namespace-packages\n",
            "  declare_namespace(pkg)\n",
            "/usr/local/lib/python3.10/dist-packages/pkg_resources/__init__.py:3154: DeprecationWarning: Deprecated call to `pkg_resources.declare_namespace('sphinxcontrib')`.\n",
            "Implementing implicit namespace packages (as specified in PEP 420) is preferred to `pkg_resources.declare_namespace`. See https://setuptools.pypa.io/en/latest/references/keywords.html#keyword-namespace-packages\n",
            "  declare_namespace(pkg)\n"
          ]
        }
      ]
    },
    {
      "cell_type": "markdown",
      "source": [
        "Опишем поведение агентов, всего их будет 12. У каждого из них своя стратегия игры.\n",
        "Для удобства будем считать, что:\n",
        "0 - камень\n",
        "1 - бумага\n",
        "2 - ножницы"
      ],
      "metadata": {
        "id": "0kuo6IOxiRub"
      }
    },
    {
      "cell_type": "markdown",
      "source": [
        "Агент всегда выбирает камень."
      ],
      "metadata": {
        "id": "zq0ZLY6GSzZN"
      }
    },
    {
      "cell_type": "code",
      "source": [
        "%%writefile rock_agent.py\n",
        "def rock_agent(observation, configuration):\n",
        "    return 0\n"
      ],
      "metadata": {
        "colab": {
          "base_uri": "https://localhost:8080/"
        },
        "id": "Wg1RH2yCH1F3",
        "outputId": "f3e80aa5-9cbe-4638-8834-8dc8930a39c9"
      },
      "execution_count": 1,
      "outputs": [
        {
          "output_type": "stream",
          "name": "stdout",
          "text": [
            "Writing rock_agent.py\n"
          ]
        }
      ]
    },
    {
      "cell_type": "markdown",
      "source": [
        "Агент всегда выбирает бумагу."
      ],
      "metadata": {
        "id": "ac-Ws28oS1Z7"
      }
    },
    {
      "cell_type": "code",
      "source": [
        "%%writefile paper_agent.py\n",
        "def paper_agent(observation, configuration):\n",
        "    return 1\n"
      ],
      "metadata": {
        "colab": {
          "base_uri": "https://localhost:8080/"
        },
        "id": "Fea1cES_P_kh",
        "outputId": "37163927-84dc-499b-e5ae-cd1d7c0fd68c"
      },
      "execution_count": 2,
      "outputs": [
        {
          "output_type": "stream",
          "name": "stdout",
          "text": [
            "Writing paper_agent.py\n"
          ]
        }
      ]
    },
    {
      "cell_type": "markdown",
      "source": [
        "Агент всегда выбирает ножницы."
      ],
      "metadata": {
        "id": "rvVPOcp3S_WH"
      }
    },
    {
      "cell_type": "code",
      "source": [
        "%%writefile scissors_agent.py\n",
        "def scissors_agent(observation, configuration):\n",
        "    return 2\n"
      ],
      "metadata": {
        "colab": {
          "base_uri": "https://localhost:8080/"
        },
        "id": "f-qh42wRQFDi",
        "outputId": "680954d8-0117-4d39-e7e9-c211b0195a59"
      },
      "execution_count": 3,
      "outputs": [
        {
          "output_type": "stream",
          "name": "stdout",
          "text": [
            "Writing scissors_agent.py\n"
          ]
        }
      ]
    },
    {
      "cell_type": "markdown",
      "source": [
        "Агент копирует последний ход противника."
      ],
      "metadata": {
        "id": "1Ht9KOpdTF52"
      }
    },
    {
      "cell_type": "code",
      "source": [
        "%%writefile copy_opponent.py\n",
        "import random\n",
        "\n",
        "def copy_opponent(observation, configuration):\n",
        "    if observation.step > 0:\n",
        "        return observation.lastOpponentAction\n",
        "    else:\n",
        "        return random.randrange(0, configuration.signs)\n"
      ],
      "metadata": {
        "colab": {
          "base_uri": "https://localhost:8080/"
        },
        "id": "zN2LvBJLQE82",
        "outputId": "fcc294df-b62f-45ee-e59d-aed95167e85d"
      },
      "execution_count": 5,
      "outputs": [
        {
          "output_type": "stream",
          "name": "stdout",
          "text": [
            "Overwriting copy_opponent.py\n"
          ]
        }
      ]
    },
    {
      "cell_type": "markdown",
      "source": [
        "Агент выбирает случайный ход в каждом раунде"
      ],
      "metadata": {
        "id": "WGvkqXCYTK69"
      }
    },
    {
      "cell_type": "code",
      "source": [
        "%%writefile random_agent.py\n",
        "import random\n",
        "\n",
        "def random_agent(observation, configuration):\n",
        "    return random.randrange(0, configuration.signs)\n"
      ],
      "metadata": {
        "colab": {
          "base_uri": "https://localhost:8080/"
        },
        "id": "WSwJT2FdQE1K",
        "outputId": "6d306b3a-22f7-43ae-e49a-30c750681b11"
      },
      "execution_count": 6,
      "outputs": [
        {
          "output_type": "stream",
          "name": "stdout",
          "text": [
            "Writing random_agent.py\n"
          ]
        }
      ]
    },
    {
      "cell_type": "markdown",
      "source": [
        "Агент в первом раунде выбирает камень, а в последующих раундах повторяет ход противника."
      ],
      "metadata": {
        "id": "-_PpIjAJTRuy"
      }
    },
    {
      "cell_type": "code",
      "source": [
        "%%writefile mixed_strategy_agent.py\n",
        "def mixed_strategy_agent(observation, configuration):\n",
        "    if observation.step == 0:\n",
        "        return 0\n",
        "    else:\n",
        "        return observation.lastOpponentAction\n"
      ],
      "metadata": {
        "colab": {
          "base_uri": "https://localhost:8080/"
        },
        "id": "QTYTRtoCQEtW",
        "outputId": "dbacc959-f603-4ddb-9aa4-7544958a98f5"
      },
      "execution_count": 7,
      "outputs": [
        {
          "output_type": "stream",
          "name": "stdout",
          "text": [
            "Writing mixed_strategy_agent.py\n"
          ]
        }
      ]
    },
    {
      "cell_type": "markdown",
      "source": [
        "Агент выбирает камень, если проиграл в предыдущем раунде, иначе выбирает случайный ход.\n"
      ],
      "metadata": {
        "id": "JSUEJRjcTZGQ"
      }
    },
    {
      "cell_type": "code",
      "source": [
        "%%writefile rock_after_loss_agent.py\n",
        "import random\n",
        "\n",
        "def rock_after_loss_agent(observation, configuration):\n",
        "    if observation.step > 0 and observation.lastOpponentAction == (observation.lastAction + 1) % 3:\n",
        "        return 0\n",
        "    else:\n",
        "        return random.randrange(0, configuration.signs)\n"
      ],
      "metadata": {
        "colab": {
          "base_uri": "https://localhost:8080/"
        },
        "id": "6hcZMP_5QEma",
        "outputId": "eb1911b5-efef-4f3c-955c-b2b618e8617f"
      },
      "execution_count": 8,
      "outputs": [
        {
          "output_type": "stream",
          "name": "stdout",
          "text": [
            "Writing rock_after_loss_agent.py\n"
          ]
        }
      ]
    },
    {
      "cell_type": "markdown",
      "source": [
        "Агент выбирает бумагу, если он выиграл в предыдущем раунде, иначе выбирает случайный ход.\n"
      ],
      "metadata": {
        "id": "FK76O7o4Tew1"
      }
    },
    {
      "cell_type": "code",
      "source": [
        "%%writefile paper_after_win_agent.py\n",
        "import random\n",
        "\n",
        "def paper_after_win_agent(observation, configuration):\n",
        "    if observation.step > 0 and observation.lastOpponentAction == (observation.lastAction - 1) % 3:\n",
        "        return 1\n",
        "    else:\n",
        "        return random.randrange(0, configuration.signs)\n"
      ],
      "metadata": {
        "colab": {
          "base_uri": "https://localhost:8080/"
        },
        "id": "aqJ33L1CQEfA",
        "outputId": "b9149f45-5100-42db-8cd6-83e81ca880ab"
      },
      "execution_count": 9,
      "outputs": [
        {
          "output_type": "stream",
          "name": "stdout",
          "text": [
            "Writing paper_after_win_agent.py\n"
          ]
        }
      ]
    },
    {
      "cell_type": "markdown",
      "source": [
        "Агент поочередно выбирает камень и бумагу (начинает с камня) в каждом раунде."
      ],
      "metadata": {
        "id": "qqwGi-2OTibg"
      }
    },
    {
      "cell_type": "code",
      "source": [
        "%%writefile alternating_choice_agent.py\n",
        "import random\n",
        "\n",
        "def alternating_choice_agent(observation, configuration):\n",
        "    if observation.step == 0:\n",
        "        return random.randrange(0, configuration.signs)\n",
        "    elif observation.step % 2 == 0:\n",
        "        return 0\n",
        "    else:\n",
        "        return 1\n"
      ],
      "metadata": {
        "colab": {
          "base_uri": "https://localhost:8080/"
        },
        "id": "8u_4HnQJQEXb",
        "outputId": "3d0c7f99-c246-412b-9b16-4045c78da81d"
      },
      "execution_count": 10,
      "outputs": [
        {
          "output_type": "stream",
          "name": "stdout",
          "text": [
            "Writing alternating_choice_agent.py\n"
          ]
        }
      ]
    },
    {
      "cell_type": "markdown",
      "source": [
        "Агент всегда выбирает тот ход, который победит ход противника в предыдущем раунде."
      ],
      "metadata": {
        "id": "3yWQyrfFTu3D"
      }
    },
    {
      "cell_type": "code",
      "source": [
        "%%writefile winning_choice_agent.py\n",
        "import random\n",
        "\n",
        "def winning_choice_agent(observation, configuration):\n",
        "    if observation.step > 0:\n",
        "        return (observation.lastOpponentAction + 1) % 3  # Побеждает ход противника\n",
        "    else:\n",
        "        return random.randrange(0, configuration.signs)\n"
      ],
      "metadata": {
        "colab": {
          "base_uri": "https://localhost:8080/"
        },
        "id": "pn5jIVA9QEPP",
        "outputId": "a2d2942f-000b-442e-fd7f-5b4649bccda9"
      },
      "execution_count": 11,
      "outputs": [
        {
          "output_type": "stream",
          "name": "stdout",
          "text": [
            "Writing winning_choice_agent.py\n"
          ]
        }
      ]
    },
    {
      "cell_type": "markdown",
      "source": [
        "Агент всегда выбирает противоположный ход по отношению к последнему ходу противника."
      ],
      "metadata": {
        "id": "r8RSI96-Tyew"
      }
    },
    {
      "cell_type": "code",
      "source": [
        "%%writefile opposite_choice_agent.py\n",
        "import random\n",
        "\n",
        "def opposite_choice_agent(observation, configuration):\n",
        "    if observation.step == 0:\n",
        "        return random.randrange(0, configuration.signs)\n",
        "    else:\n",
        "        return (observation.lastOpponentAction + 1) % 3  # Противоположный ход\n"
      ],
      "metadata": {
        "colab": {
          "base_uri": "https://localhost:8080/"
        },
        "id": "SQIaZO8eQD8o",
        "outputId": "92d9b2a5-2213-4cc8-a97d-11bb62d528e4"
      },
      "execution_count": 12,
      "outputs": [
        {
          "output_type": "stream",
          "name": "stdout",
          "text": [
            "Writing opposite_choice_agent.py\n"
          ]
        }
      ]
    },
    {
      "cell_type": "markdown",
      "source": [
        "Агент всегда выбирает следующий ход в цикле камень → бумага → ножницы."
      ],
      "metadata": {
        "id": "kAUwzAAFT360"
      }
    },
    {
      "cell_type": "code",
      "source": [
        "%%writefile cycle_choice_agent.py\n",
        "def cycle_choice_agent(observation, configuration):\n",
        "    if observation.step == 0:\n",
        "        return 0  # Камень\n",
        "    else:\n",
        "        return (observation.lastOpponentAction + 1) % 3  # Циклично меняет ход\n"
      ],
      "metadata": {
        "colab": {
          "base_uri": "https://localhost:8080/"
        },
        "id": "-1Fknk6JQDiz",
        "outputId": "8cd182e5-6337-4a85-e2e1-79f801b5e827"
      },
      "execution_count": 13,
      "outputs": [
        {
          "output_type": "stream",
          "name": "stdout",
          "text": [
            "Writing cycle_choice_agent.py\n"
          ]
        }
      ]
    },
    {
      "cell_type": "markdown",
      "source": [
        "Проведем турнир при помощи функции evaluate"
      ],
      "metadata": {
        "id": "XTIqCvCUSE47"
      }
    },
    {
      "cell_type": "code",
      "source": [
        "# Список из разных агентов для корректной работы функции evaluate\n",
        "agents = [\n",
        "    \"rock_agent.py\",\n",
        "    \"paper_agent.py\",\n",
        "    \"scissors_agent.py\",\n",
        "    \"copy_opponent.py\",\n",
        "    \"random_agent.py\",\n",
        "    \"mixed_strategy_agent.py\",\n",
        "    \"rock_after_loss_agent.py\",\n",
        "    \"paper_after_win_agent.py\",\n",
        "    \"alternating_choice_agent.py\",\n",
        "    \"winning_choice_agent.py\",\n",
        "    \"opposite_choice_agent.py\",\n",
        "    \"cycle_choice_agent.py\"\n",
        "]\n",
        "\n",
        "# Турнир\n",
        "for i in range(len(agents)):\n",
        "    for j in range(i + 1, len(agents)):\n",
        "        print(f\"Турнир между {agents[i]} и {agents[j]}:\")\n",
        "        results = evaluate(\n",
        "            \"rps\",  # Окружение\n",
        "            [agents[i], agents[j]],  # Агенты\n",
        "            configuration={\"episodeSteps\": 100}  # Количество шагов\n",
        "        )\n",
        "        print(f\"Результаты: {results}\")\n"
      ],
      "metadata": {
        "colab": {
          "base_uri": "https://localhost:8080/"
        },
        "id": "h--Gct6gQg7m",
        "outputId": "6b829900-14f5-4c17-9df6-2d79b4d492c4"
      },
      "execution_count": 19,
      "outputs": [
        {
          "output_type": "stream",
          "name": "stdout",
          "text": [
            "Турнир между rock_agent.py и paper_agent.py:\n",
            "Результаты: [[-99.0, 99.0]]\n",
            "Турнир между rock_agent.py и scissors_agent.py:\n",
            "Результаты: [[99.0, -99.0]]\n",
            "Турнир между rock_agent.py и copy_opponent.py:\n",
            "Результаты: [[0, 0]]\n",
            "Турнир между rock_agent.py и random_agent.py:\n",
            "Результаты: [[0, 0]]\n",
            "Турнир между rock_agent.py и mixed_strategy_agent.py:\n",
            "Результаты: [[0, 0]]\n",
            "Турнир между rock_agent.py и rock_after_loss_agent.py:\n",
            "Результаты: [[1, None]]\n",
            "Турнир между rock_agent.py и paper_after_win_agent.py:\n",
            "Результаты: [[1, None]]\n",
            "Турнир между rock_agent.py и alternating_choice_agent.py:\n",
            "Результаты: [[-49.0, 49.0]]\n",
            "Турнир между rock_agent.py и winning_choice_agent.py:\n",
            "Результаты: [[-99.0, 99.0]]\n",
            "Турнир между rock_agent.py и opposite_choice_agent.py:\n",
            "Результаты: [[-97.0, 97.0]]\n",
            "Турнир между rock_agent.py и cycle_choice_agent.py:\n",
            "Результаты: [[-98.0, 98.0]]\n",
            "Турнир между paper_agent.py и scissors_agent.py:\n",
            "Результаты: [[-99.0, 99.0]]\n",
            "Турнир между paper_agent.py и copy_opponent.py:\n",
            "Результаты: [[0, 0]]\n",
            "Турнир между paper_agent.py и random_agent.py:\n",
            "Результаты: [[0, 0]]\n",
            "Турнир между paper_agent.py и mixed_strategy_agent.py:\n",
            "Результаты: [[0, 0]]\n",
            "Турнир между paper_agent.py и rock_after_loss_agent.py:\n",
            "Результаты: [[1, None]]\n",
            "Турнир между paper_agent.py и paper_after_win_agent.py:\n",
            "Результаты: [[1, None]]\n",
            "Турнир между paper_agent.py и alternating_choice_agent.py:\n",
            "Результаты: [[48.0, -48.0]]\n",
            "Турнир между paper_agent.py и winning_choice_agent.py:\n",
            "Результаты: [[-97.0, 97.0]]\n",
            "Турнир между paper_agent.py и opposite_choice_agent.py:\n",
            "Результаты: [[-97.0, 97.0]]\n",
            "Турнир между paper_agent.py и cycle_choice_agent.py:\n",
            "Результаты: [[-97.0, 97.0]]\n",
            "Турнир между scissors_agent.py и copy_opponent.py:\n",
            "Результаты: [[0, 0]]\n",
            "Турнир между scissors_agent.py и random_agent.py:\n",
            "Результаты: [[0, 0]]\n",
            "Турнир между scissors_agent.py и mixed_strategy_agent.py:\n",
            "Результаты: [[0, 0]]\n",
            "Турнир между scissors_agent.py и rock_after_loss_agent.py:\n",
            "Результаты: [[1, None]]\n",
            "Турнир между scissors_agent.py и paper_after_win_agent.py:\n",
            "Результаты: [[1, None]]\n",
            "Турнир между scissors_agent.py и alternating_choice_agent.py:\n",
            "Результаты: [[0, 0]]\n",
            "Турнир между scissors_agent.py и winning_choice_agent.py:\n",
            "Результаты: [[-98.0, 98.0]]\n",
            "Турнир между scissors_agent.py и opposite_choice_agent.py:\n",
            "Результаты: [[-99.0, 99.0]]\n",
            "Турнир между scissors_agent.py и cycle_choice_agent.py:\n",
            "Результаты: [[-99.0, 99.0]]\n",
            "Турнир между copy_opponent.py и random_agent.py:\n",
            "Результаты: [[0, 0]]\n",
            "Турнир между copy_opponent.py и mixed_strategy_agent.py:\n",
            "Результаты: [[0, 0]]\n",
            "Турнир между copy_opponent.py и rock_after_loss_agent.py:\n",
            "Результаты: [[1, None]]\n",
            "Турнир между copy_opponent.py и paper_after_win_agent.py:\n",
            "Результаты: [[1, None]]\n",
            "Турнир между copy_opponent.py и alternating_choice_agent.py:\n",
            "Результаты: [[0, 0]]\n",
            "Турнир между copy_opponent.py и winning_choice_agent.py:\n",
            "Результаты: [[99.0, -99.0]]\n",
            "Турнир между copy_opponent.py и opposite_choice_agent.py:\n",
            "Результаты: [[-49.0, 49.0]]\n",
            "Турнир между copy_opponent.py и cycle_choice_agent.py:\n",
            "Результаты: [[-50.0, 50.0]]\n",
            "Турнир между random_agent.py и mixed_strategy_agent.py:\n",
            "Результаты: [[0, 0]]\n",
            "Турнир между random_agent.py и rock_after_loss_agent.py:\n",
            "Результаты: [[1, None]]\n",
            "Турнир между random_agent.py и paper_after_win_agent.py:\n",
            "Результаты: [[1, None]]\n",
            "Турнир между random_agent.py и alternating_choice_agent.py:\n",
            "Результаты: [[0, 0]]\n",
            "Турнир между random_agent.py и winning_choice_agent.py:\n",
            "Результаты: [[0, 0]]\n",
            "Турнир между random_agent.py и opposite_choice_agent.py:\n",
            "Результаты: [[0, 0]]\n",
            "Турнир между random_agent.py и cycle_choice_agent.py:\n",
            "Результаты: [[0, 0]]\n",
            "Турнир между mixed_strategy_agent.py и rock_after_loss_agent.py:\n",
            "Результаты: [[1, None]]\n",
            "Турнир между mixed_strategy_agent.py и paper_after_win_agent.py:\n",
            "Результаты: [[1, None]]\n",
            "Турнир между mixed_strategy_agent.py и alternating_choice_agent.py:\n",
            "Результаты: [[0, 0]]\n",
            "Турнир между mixed_strategy_agent.py и winning_choice_agent.py:\n",
            "Результаты: [[99.0, -99.0]]\n",
            "Турнир между mixed_strategy_agent.py и opposite_choice_agent.py:\n",
            "Результаты: [[-49.0, 49.0]]\n",
            "Турнир между mixed_strategy_agent.py и cycle_choice_agent.py:\n",
            "Результаты: [[-49.0, 49.0]]\n",
            "Турнир между rock_after_loss_agent.py и paper_after_win_agent.py:\n",
            "Результаты: [[None, None]]\n",
            "Турнир между rock_after_loss_agent.py и alternating_choice_agent.py:\n",
            "Результаты: [[None, 1]]\n",
            "Турнир между rock_after_loss_agent.py и winning_choice_agent.py:\n",
            "Результаты: [[None, 1]]\n",
            "Турнир между rock_after_loss_agent.py и opposite_choice_agent.py:\n",
            "Результаты: [[None, 1]]\n",
            "Турнир между rock_after_loss_agent.py и cycle_choice_agent.py:\n",
            "Результаты: [[None, 1]]\n",
            "Турнир между paper_after_win_agent.py и alternating_choice_agent.py:\n",
            "Результаты: [[None, 1]]\n",
            "Турнир между paper_after_win_agent.py и winning_choice_agent.py:\n",
            "Результаты: [[None, 1]]\n",
            "Турнир между paper_after_win_agent.py и opposite_choice_agent.py:\n",
            "Результаты: [[None, 1]]\n",
            "Турнир между paper_after_win_agent.py и cycle_choice_agent.py:\n",
            "Результаты: [[None, 1]]\n",
            "Турнир между alternating_choice_agent.py и winning_choice_agent.py:\n",
            "Результаты: [[48.0, -48.0]]\n",
            "Турнир между alternating_choice_agent.py и opposite_choice_agent.py:\n",
            "Результаты: [[50.0, -50.0]]\n",
            "Турнир между alternating_choice_agent.py и cycle_choice_agent.py:\n",
            "Результаты: [[49.0, -49.0]]\n",
            "Турнир между winning_choice_agent.py и opposite_choice_agent.py:\n",
            "Результаты: [[0, 0]]\n",
            "Турнир между winning_choice_agent.py и cycle_choice_agent.py:\n",
            "Результаты: [[0, 0]]\n",
            "Турнир между opposite_choice_agent.py и cycle_choice_agent.py:\n",
            "Результаты: [[0, 0]]\n"
          ]
        }
      ]
    }
  ]
}